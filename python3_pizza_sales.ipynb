{
  "nbformat": 4,
  "nbformat_minor": 0,
  "metadata": {
    "colab": {
      "name": "python3 pizza sales.ipynb",
      "version": "0.3.2",
      "provenance": [],
      "include_colab_link": true
    },
    "kernelspec": {
      "name": "python3",
      "display_name": "Python 3"
    }
  },
  "cells": [
    {
      "cell_type": "markdown",
      "metadata": {
        "id": "view-in-github",
        "colab_type": "text"
      },
      "source": [
        "<a href=\"https://colab.research.google.com/github/pleabargain/notebook/blob/master/python3_pizza_sales.ipynb\" target=\"_parent\"><img src=\"https://colab.research.google.com/assets/colab-badge.svg\" alt=\"Open In Colab\"/></a>"
      ]
    },
    {
      "metadata": {
        "id": "VqdXhrIloYyM",
        "colab_type": "code",
        "colab": {
          "base_uri": "https://localhost:8080/",
          "height": 493
        },
        "outputId": "7d47c19a-69b2-4ee7-e8df-fb900709ed74"
      },
      "cell_type": "code",
      "source": [
        "toppings = [\n",
        "'pepperoni',\n",
        "  'pineapple',\n",
        "'cheese',\n",
        "'sausage',\n",
        "'olives',\n",
        "'anchovies',\n",
        "'mushrooms']\n",
        "\n",
        "#sanity check\n",
        "print(toppings)\n",
        "\n",
        "prices = [2,6,1,3,2,7,2]\n",
        "print(prices)\n",
        "\n",
        "num_pizzas = len(toppings)\n",
        "print(num_pizzas)\n",
        "\n",
        "# %s string formatting syntax (which it borrows from C).\n",
        "print (\"We sell %s different kinds of pizza!\\n\\n\" %(num_pizzas))\n",
        "\n",
        "#flip the order of the operation!\n",
        "pizzas =list(zip(prices,toppings))\n",
        "\n",
        "\n",
        "pizzas.sort(reverse=True)\n",
        "print(\"should be sorted now by price using reverse...\\n\\n \" +str(pizzas)+\"\\n\\n\")\n",
        "\n",
        "pizzas.sort(reverse=False)\n",
        "print(\"should be sorted now by price using low to high reverse...\\n\\n \" +str(pizzas)+\"\\n\\n\")\n",
        "\n",
        "cheapest_pizza = pizzas[0]\n",
        "print(str(cheapest_pizza) + \"cheapest pizza \\n\\n\")\n",
        "\n",
        "priciest_pizza = pizzas[-1]\n",
        "print(str(priciest_pizza ) + \"$$$ pizza \\n\\n\")\n",
        "\n",
        "three_cheapest = pizzas[:3]\n",
        "print(str(three_cheapest) + \" 3 cheapest pizzas \\n\\n\")\n",
        "\n",
        "num_two_dollar_slices = prices.count(2)\n",
        "print(\"there are \" + str(num_two_dollar_slices) + \" 2 dollar cheapest pizzas \\n\\n\")\n",
        "\n"
      ],
      "execution_count": 6,
      "outputs": [
        {
          "output_type": "stream",
          "text": [
            "['pepperoni', 'pineapple', 'cheese', 'sausage', 'olives', 'anchovies', 'mushrooms']\n",
            "[2, 6, 1, 3, 2, 7, 2]\n",
            "7\n",
            "We sell 7 different kinds of pizza!\n",
            "\n",
            "\n",
            "should be sorted now by price using reverse...\n",
            "\n",
            " [(7, 'anchovies'), (6, 'pineapple'), (3, 'sausage'), (2, 'pepperoni'), (2, 'olives'), (2, 'mushrooms'), (1, 'cheese')]\n",
            "\n",
            "\n",
            "should be sorted now by price using low to high reverse...\n",
            "\n",
            " [(1, 'cheese'), (2, 'mushrooms'), (2, 'olives'), (2, 'pepperoni'), (3, 'sausage'), (6, 'pineapple'), (7, 'anchovies')]\n",
            "\n",
            "\n",
            "(1, 'cheese')cheapest pizza \n",
            "\n",
            "\n",
            "(7, 'anchovies')$$$ pizza \n",
            "\n",
            "\n",
            "[(1, 'cheese'), (2, 'mushrooms'), (2, 'olives')] 3 cheapest pizzas \n",
            "\n",
            "\n",
            "there are 3 2 dollar cheapest pizzas \n",
            "\n",
            "\n"
          ],
          "name": "stdout"
        }
      ]
    },
    {
      "metadata": {
        "id": "FRPdbp3LAQHR",
        "colab_type": "code",
        "colab": {
          "base_uri": "https://localhost:8080/",
          "height": 102
        },
        "outputId": "493789f4-4860-4d72-bd84-9600e3c7bd4b"
      },
      "cell_type": "code",
      "source": [
        "help(list.sort)"
      ],
      "execution_count": 8,
      "outputs": [
        {
          "output_type": "stream",
          "text": [
            "Help on method_descriptor:\n",
            "\n",
            "sort(...)\n",
            "    L.sort(key=None, reverse=False) -> None -- stable sort *IN PLACE*\n",
            "\n"
          ],
          "name": "stdout"
        }
      ]
    },
    {
      "metadata": {
        "id": "7PUTrLoJAXyH",
        "colab_type": "code",
        "colab": {
          "base_uri": "https://localhost:8080/",
          "height": 153
        },
        "outputId": "a5f95490-21ed-49df-b8d0-4808977cdd17"
      },
      "cell_type": "code",
      "source": [
        "help(sorted)"
      ],
      "execution_count": 10,
      "outputs": [
        {
          "output_type": "stream",
          "text": [
            "Help on built-in function sorted in module builtins:\n",
            "\n",
            "sorted(iterable, /, *, key=None, reverse=False)\n",
            "    Return a new list containing all items from the iterable in ascending order.\n",
            "    \n",
            "    A custom key function can be supplied to customize the sort order, and the\n",
            "    reverse flag can be set to request the result in descending order.\n",
            "\n"
          ],
          "name": "stdout"
        }
      ]
    }
  ]
}